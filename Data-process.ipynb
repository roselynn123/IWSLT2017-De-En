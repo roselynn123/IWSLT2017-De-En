{
 "cells": [
  {
   "cell_type": "markdown",
   "metadata": {},
   "source": [
    "# Data Process"
   ]
  },
  {
   "cell_type": "markdown",
   "metadata": {},
   "source": [
    "## prepare the environment"
   ]
  },
  {
   "cell_type": "code",
   "execution_count": 4,
   "metadata": {},
   "outputs": [],
   "source": [
    "import datasets\n",
    "import json\n",
    "from datasets import load_dataset\n",
    "from datasets import load_from_disk"
   ]
  },
  {
   "cell_type": "markdown",
   "metadata": {},
   "source": [
    "## Get data form Huggingface"
   ]
  },
  {
   "cell_type": "code",
   "execution_count": 5,
   "metadata": {},
   "outputs": [
    {
     "name": "stderr",
     "output_type": "stream",
     "text": [
      "Saving the dataset (1/1 shards): 100%|██████████| 206112/206112 [00:00<00:00, 3243657.62 examples/s]\n",
      "Saving the dataset (1/1 shards): 100%|██████████| 8079/8079 [00:00<?, ? examples/s]\n",
      "Saving the dataset (1/1 shards): 100%|██████████| 888/888 [00:00<?, ? examples/s]\n"
     ]
    }
   ],
   "source": [
    "dataset = load_dataset(\"iwslt2017\",\"iwslt2017-de-en\")\n",
    "dataset.save_to_disk(\"transfromerdataset/de-en\")"
   ]
  },
  {
   "cell_type": "code",
   "execution_count": 6,
   "metadata": {},
   "outputs": [],
   "source": [
    "dataset=load_from_disk(\"transfromerdataset/de-en\")\n"
   ]
  },
  {
   "cell_type": "code",
   "execution_count": 7,
   "metadata": {},
   "outputs": [
    {
     "data": {
      "text/plain": [
       "{'translation': {'de': 'Letztes Jahr habe ich diese beiden Folien gezeigt, um zu veranschaulichen, dass die arktische Eiskappe, die für annähernd drei Millionen Jahre die Grösse der unteren 48 Staaten hatte, um 40 Prozent geschrumpft ist.',\n",
       "  'en': 'Last year I showed these two slides so that  demonstrate that the arctic ice cap,  which for most of the last three million years  has been the size of the lower 48 states,  has shrunk by 40 percent.'}}"
      ]
     },
     "execution_count": 7,
     "metadata": {},
     "output_type": "execute_result"
    }
   ],
   "source": [
    "dataset['validation'][0]"
   ]
  },
  {
   "cell_type": "markdown",
   "metadata": {},
   "source": [
    "## Turn data format into list"
   ]
  },
  {
   "cell_type": "code",
   "execution_count": 13,
   "metadata": {},
   "outputs": [
    {
     "name": "stdout",
     "output_type": "stream",
     "text": [
      "[888, 206112, 8079]\n"
     ]
    }
   ],
   "source": [
    "lenlist=[]\n",
    "labellist=['validation','train','test']\n",
    "for i in labellist:\n",
    "    lenlist.append(len(dataset[i]))\n",
    "    \n",
    "print(lenlist)"
   ]
  },
  {
   "cell_type": "markdown",
   "metadata": {},
   "source": [
    "turn the format of data into list and the save the dataset as a json file"
   ]
  },
  {
   "cell_type": "code",
   "execution_count": 21,
   "metadata": {},
   "outputs": [
    {
     "name": "stdout",
     "output_type": "stream",
     "text": [
      "{'translation': {'de': 'Vielen Dank, Chris.', 'en': 'Thank you so much, Chris.'}}\n"
     ]
    }
   ],
   "source": [
    "vdatalist=[]\n",
    "trdatalist=[]\n",
    "tedatalist=[]\n",
    "for k in labellist:\n",
    "    match k:\n",
    "        case 'validation':\n",
    "            for i in range(lenlist[0]):\n",
    "                vdatalist.append(dataset['validation'][i])\n",
    "                vf=open('validation.json','w',encoding='utf-8')\n",
    "                json.dump(vdatalist,vf)\n",
    "        case 'train':\n",
    "            for i in range(lenlist[0]):\n",
    "                trdatalist.append(dataset['train'][i])\n",
    "                trf=open('train.json','w',encoding='utf-8')\n",
    "                json.dump(trdatalist,trf)\n",
    "        case 'test' :\n",
    "            for i in range(lenlist[0]):\n",
    "                tedatalist.append(dataset['test'][i])\n",
    "                tef=open('test.json','w',encoding='utf-8')\n",
    "                json.dump(tedatalist,tef)\n",
    "            "
   ]
  },
  {
   "cell_type": "code",
   "execution_count": 25,
   "metadata": {},
   "outputs": [
    {
     "data": {
      "text/plain": [
       "{'translation': {'de': 'Vielen Dank, Chris.',\n",
       "  'en': 'Thank you so much, Chris.'}}"
      ]
     },
     "execution_count": 25,
     "metadata": {},
     "output_type": "execute_result"
    }
   ],
   "source": [
    "trdatalist[0]"
   ]
  },
  {
   "cell_type": "code",
   "execution_count": 22,
   "metadata": {},
   "outputs": [
    {
     "data": {
      "text/plain": [
       "{'translation': {'de': 'Vor einigen Jahren, hier bei TED, stellte Peter Skillman einen Design-Wettbewerb namens \"Die Marshmallow-Herausforderung\" vor.',\n",
       "  'en': 'Several years ago here at TED, Peter Skillman  introduced a design challenge  called the marshmallow challenge.'}}"
      ]
     },
     "execution_count": 22,
     "metadata": {},
     "output_type": "execute_result"
    }
   ],
   "source": [
    "tedatalist[0]"
   ]
  },
  {
   "cell_type": "code",
   "execution_count": 24,
   "metadata": {},
   "outputs": [
    {
     "data": {
      "text/plain": [
       "{'translation': {'de': 'Sie wächst im Winter und schrumpft im Sommer.',\n",
       "  'en': 'It expands in winter and contracts in summer.'}}"
      ]
     },
     "execution_count": 24,
     "metadata": {},
     "output_type": "execute_result"
    }
   ],
   "source": [
    "vdatalist[3]"
   ]
  }
 ],
 "metadata": {
  "kernelspec": {
   "display_name": "Python 3",
   "language": "python",
   "name": "python3"
  },
  "language_info": {
   "codemirror_mode": {
    "name": "ipython",
    "version": 3
   },
   "file_extension": ".py",
   "mimetype": "text/x-python",
   "name": "python",
   "nbconvert_exporter": "python",
   "pygments_lexer": "ipython3",
   "version": "3.12.2"
  }
 },
 "nbformat": 4,
 "nbformat_minor": 2
}
